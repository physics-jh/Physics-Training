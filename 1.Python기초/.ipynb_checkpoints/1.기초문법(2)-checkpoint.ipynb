{
 "cells": [
  {
   "cell_type": "markdown",
   "metadata": {
    "colab_type": "text",
    "id": "Mh_KNXPavTh0"
   },
   "source": [
    "#제어문\n",
    "##if문"
   ]
  },
  {
   "cell_type": "code",
   "execution_count": 1,
   "metadata": {
    "colab": {
     "base_uri": "https://localhost:8080/",
     "height": 35
    },
    "colab_type": "code",
    "executionInfo": {
     "elapsed": 2262,
     "status": "ok",
     "timestamp": 1596686105827,
     "user": {
      "displayName": "팽주현",
      "photoUrl": "",
      "userId": "00423118231565855136"
     },
     "user_tz": -540
    },
    "id": "Z2Vq8a-q5VkQ",
    "outputId": "bef6b604-ddb8-414e-a084-65e1baefc71c"
   },
   "outputs": [
    {
     "name": "stdout",
     "output_type": "stream",
     "text": [
      "집을 사라\n"
     ]
    }
   ],
   "source": [
    "money = 5e8\n",
    "if money >= 5e8:\n",
    "    print('집을 사라')\n",
    "else:\n",
    "    print(\"더 벌어라 \")"
   ]
  },
  {
   "cell_type": "code",
   "execution_count": 2,
   "metadata": {
    "colab": {
     "base_uri": "https://localhost:8080/",
     "height": 35
    },
    "colab_type": "code",
    "executionInfo": {
     "elapsed": 848,
     "status": "ok",
     "timestamp": 1596686137302,
     "user": {
      "displayName": "팽주현",
      "photoUrl": "",
      "userId": "00423118231565855136"
     },
     "user_tz": -540
    },
    "id": "qFZgRt7xwM3F",
    "outputId": "c95b8b3b-2feb-441d-aeb1-5c34e711b341"
   },
   "outputs": [
    {
     "name": "stdout",
     "output_type": "stream",
     "text": [
      "다시태어나라\n"
     ]
    }
   ],
   "source": [
    "me = ['돈', '명예', '권력', '애인']\n",
    "if '돈' and '명예' and '권력' and '애인' not in me:\n",
    "    print(\"연예를 해라\")\n",
    "elif '돈' and '명예' not in me:\n",
    "    print(\"돈 먼저 벌어라\")\n",
    "elif '' not in me:\n",
    "    print(\"다시태어나라\")"
   ]
  },
  {
   "cell_type": "code",
   "execution_count": 3,
   "metadata": {
    "colab": {
     "base_uri": "https://localhost:8080/",
     "height": 35
    },
    "colab_type": "code",
    "executionInfo": {
     "elapsed": 1070,
     "status": "ok",
     "timestamp": 1596686805633,
     "user": {
      "displayName": "팽주현",
      "photoUrl": "",
      "userId": "00423118231565855136"
     },
     "user_tz": -540
    },
    "id": "j5c7QMoA6JzU",
    "outputId": "4d643eee-6f3d-40cf-c0bf-56332bbb417b"
   },
   "outputs": [
    {
     "name": "stdout",
     "output_type": "stream",
     "text": [
      "돈을 벌고 결혼상대를 찾아 나서라\n"
     ]
    }
   ],
   "source": [
    "me = ['명예', '권력']\n",
    "if '돈' in me:\n",
    "    print('집을 사고')\n",
    "elif '명예' in me: \n",
    "    print(\"돈을 벌고 결혼상대를 찾아 나서라\")"
   ]
  },
  {
   "cell_type": "markdown",
   "metadata": {
    "colab_type": "text",
    "id": "PhLigcsy7A81"
   },
   "source": [
    "##while 문"
   ]
  },
  {
   "cell_type": "code",
   "execution_count": 4,
   "metadata": {
    "colab": {
     "base_uri": "https://localhost:8080/",
     "height": 217
    },
    "colab_type": "code",
    "executionInfo": {
     "elapsed": 874,
     "status": "ok",
     "timestamp": 1596687835583,
     "user": {
      "displayName": "팽주현",
      "photoUrl": "",
      "userId": "00423118231565855136"
     },
     "user_tz": -540
    },
    "id": "ylKwUQPi82kB",
    "outputId": "e36946b2-5683-4832-eaf7-c517d94bcec4"
   },
   "outputs": [
    {
     "name": "stdout",
     "output_type": "stream",
     "text": [
      "그녀에게 1번 고백했습니다.\n",
      "그녀에게 2번 고백했습니다.\n",
      "그녀에게 3번 고백했습니다.\n",
      "그녀에게 4번 고백했습니다.\n",
      "그녀에게 5번 고백했습니다.\n",
      "그녀에게 6번 고백했습니다.\n",
      "그녀에게 7번 고백했습니다.\n",
      "그녀에게 8번 고백했습니다.\n",
      "그녀에게 9번 고백했습니다.\n",
      "그녀에게 10번 고백했습니다.\n",
      "그녀가 받아들였습니다. 유치원 예약하세요\n"
     ]
    }
   ],
   "source": [
    "#예제(열번찍어 안넘어가는 나무 없다)\n",
    "dash = 0\n",
    "while dash < 10:\n",
    "    dash = dash + 1\n",
    "    print(\"그녀에게 %d번 고백했습니다.\" %dash)\n",
    "    if dash == 10:\n",
    "        print(\"그녀의 마음이 움직였습니다. 축하합니다.\")"
   ]
  },
  {
   "cell_type": "code",
   "execution_count": 5,
   "metadata": {
    "colab": {
     "base_uri": "https://localhost:8080/",
     "height": 399
    },
    "colab_type": "code",
    "executionInfo": {
     "elapsed": 983,
     "status": "ok",
     "timestamp": 1596688460126,
     "user": {
      "displayName": "팽주현",
      "photoUrl": "",
      "userId": "00423118231565855136"
     },
     "user_tz": -540
    },
    "id": "1S-8q5n3AUB4",
    "outputId": "df965f97-8ab9-4835-cde3-4fc04c414034"
   },
   "outputs": [
    {
     "name": "stdout",
     "output_type": "stream",
     "text": [
      "곧 나옵니다. 뜨거우니 조심하세요\n",
      "잔량:4\n",
      "곧 나옵니다. 뜨거우니 조심하세요\n",
      "잔량:3\n",
      "곧 나옵니다. 뜨거우니 조심하세요\n",
      "잔량:2\n",
      "곧 나옵니다. 뜨거우니 조심하세요\n",
      "잔량:1\n",
      "곧 나옵니다. 뜨거우니 조심하세요\n",
      "잔량:0\n",
      "재고 소진 판매중지\n"
     ]
    }
   ],
   "source": [
    "#예제(자판기 알고리즘)\n",
    "coffee = 5\n",
    "money = True\n",
    "while money:\n",
    "    print(\"곧 나옵니다. 뜨거우니 조심하세요\")\n",
    "    coffee = coffee - 1\n",
    "    print(\"잔량:{}\".format(coffee))   #print(\"잔량: %d\" %coffee)\n",
    "    if coffee == 0:\n",
    "        print(\"재고 소진 판매중지\")\n",
    "        break"
   ]
  },
  {
   "cell_type": "markdown",
   "metadata": {
    "colab_type": "text",
    "id": "Z3Pnup_GCqBL"
   },
   "source": [
    "##for 문"
   ]
  },
  {
   "cell_type": "code",
   "execution_count": 6,
   "metadata": {
    "colab": {
     "base_uri": "https://localhost:8080/",
     "height": 72
    },
    "colab_type": "code",
    "executionInfo": {
     "elapsed": 873,
     "status": "ok",
     "timestamp": 1596688863674,
     "user": {
      "displayName": "팽주현",
      "photoUrl": "",
      "userId": "00423118231565855136"
     },
     "user_tz": -540
    },
    "id": "i-fVpgM2DNoa",
    "outputId": "9eca4d34-1d39-4305-a647-5847908e85a0"
   },
   "outputs": [
    {
     "name": "stdout",
     "output_type": "stream",
     "text": [
      "1번 학생 축하합니다. 합격입니다. \n",
      "3번 학생 축하합니다. 합격입니다. \n",
      "5번 학생 축하합니다. 합격입니다. \n"
     ]
    }
   ],
   "source": [
    "#예제(합격 판별 알고리즘)\n",
    "garde = [90, 25, 67, 45, 80]\n",
    "st_num = 0 \n",
    "for mark in garde: \n",
    "    st_num = st_num +1\n",
    "    if mark < 60:\n",
    "        continue \n",
    "    print(\"%d번 학생 축하합니다. 합격입니다. \" % st_num)"
   ]
  },
  {
   "cell_type": "code",
   "execution_count": 7,
   "metadata": {
    "colab": {
     "base_uri": "https://localhost:8080/",
     "height": 35
    },
    "colab_type": "code",
    "executionInfo": {
     "elapsed": 935,
     "status": "ok",
     "timestamp": 1596689077773,
     "user": {
      "displayName": "팽주현",
      "photoUrl": "",
      "userId": "00423118231565855136"
     },
     "user_tz": -540
    },
    "id": "IGXsmzAlEOiL",
    "outputId": "56dd34af-8c41-42ef-9914-0771109a31a1"
   },
   "outputs": [
    {
     "name": "stdout",
     "output_type": "stream",
     "text": [
      "55\n"
     ]
    }
   ],
   "source": [
    "#예제(합구하기)\n",
    "sum = 0\n",
    "for i in range(1,11):\n",
    "    sum = sum + i\n",
    "print(sum)"
   ]
  },
  {
   "cell_type": "code",
   "execution_count": null,
   "metadata": {},
   "outputs": [
    {
     "name": "stdout",
     "output_type": "stream",
     "text": [
      "구구단 프로그램 start!\n"
     ]
    }
   ],
   "source": [
    "#구구단\n",
    "print(\"구구단 프로그램 start!\")\n",
    "num = int(input(\"단을 입력하세요:\"))\n",
    "for i in range(1, 10):\n",
    "    print('{}*{}={}'.format(num, i, num*i))\n",
    "    continue"
   ]
  },
  {
   "cell_type": "code",
   "execution_count": null,
   "metadata": {},
   "outputs": [],
   "source": [
    "while True:\n",
    "    num = int(input(\"출력 할 단은 : \"))\n",
    "    for i in range(1, 9):\n",
    "        print('{0} * {1} = {2}'.format(num, i, num*i))\n",
    "    if num == 0:\n",
    "        break"
   ]
  },
  {
   "cell_type": "markdown",
   "metadata": {
    "colab_type": "text",
    "id": "WYSu5RpWF_OW"
   },
   "source": [
    "#함수"
   ]
  },
  {
   "cell_type": "code",
   "execution_count": null,
   "metadata": {
    "colab": {
     "base_uri": "https://localhost:8080/",
     "height": 35
    },
    "colab_type": "code",
    "executionInfo": {
     "elapsed": 841,
     "status": "ok",
     "timestamp": 1596690408643,
     "user": {
      "displayName": "팽주현",
      "photoUrl": "",
      "userId": "00423118231565855136"
     },
     "user_tz": -540
    },
    "id": "9vcC30OrJzSg",
    "outputId": "f77e8108-f1dc-4c74-cb29-7106ceab50bb"
   },
   "outputs": [],
   "source": [
    "#사칙연산 함수\n",
    "def sum(a, b):\n",
    "  summation = a + b\n",
    "  return summation"
   ]
  },
  {
   "cell_type": "code",
   "execution_count": null,
   "metadata": {
    "colab": {},
    "colab_type": "code",
    "executionInfo": {
     "elapsed": 784,
     "status": "ok",
     "timestamp": 1596691026207,
     "user": {
      "displayName": "팽주현",
      "photoUrl": "",
      "userId": "00423118231565855136"
     },
     "user_tz": -540
    },
    "id": "08LdY7_9KiFI"
   },
   "outputs": [],
   "source": [
    "def sub(a, b):\n",
    "  subtraction = a - b\n",
    "  return subtraction"
   ]
  }
 ],
 "metadata": {
  "colab": {
   "authorship_tag": "ABX9TyPi2ejDx9Av/ERvOQ0Niyb1",
   "name": "0_파이썬 기초(2).ipynb",
   "provenance": []
  },
  "kernelspec": {
   "display_name": "Python 3",
   "language": "python",
   "name": "python3"
  },
  "language_info": {
   "codemirror_mode": {
    "name": "ipython",
    "version": 3
   },
   "file_extension": ".py",
   "mimetype": "text/x-python",
   "name": "python",
   "nbconvert_exporter": "python",
   "pygments_lexer": "ipython3",
   "version": "3.7.6"
  }
 },
 "nbformat": 4,
 "nbformat_minor": 4
}
