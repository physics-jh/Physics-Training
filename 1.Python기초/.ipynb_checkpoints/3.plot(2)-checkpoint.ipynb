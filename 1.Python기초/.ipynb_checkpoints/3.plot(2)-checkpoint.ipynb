{
 "cells": [
  {
   "cell_type": "markdown",
   "metadata": {},
   "source": [
    "### Plotting 기초(2)"
   ]
  },
  {
   "cell_type": "code",
   "execution_count": 1,
   "metadata": {
    "colab": {},
    "colab_type": "code",
    "executionInfo": {
     "elapsed": 969,
     "status": "ok",
     "timestamp": 1595205209097,
     "user": {
      "displayName": "팽주현",
      "photoUrl": "",
      "userId": "00423118231565855136"
     },
     "user_tz": -540
    },
    "id": "NR8mTSaxRLVP"
   },
   "outputs": [],
   "source": [
    "import matplotlib.pyplot as plt\n",
    "import pandas as pd\n",
    "import numpy as np"
   ]
  },
  {
   "cell_type": "code",
   "execution_count": 2,
   "metadata": {
    "colab": {},
    "colab_type": "code",
    "executionInfo": {
     "elapsed": 10029,
     "status": "ok",
     "timestamp": 1595205218169,
     "user": {
      "displayName": "팽주현",
      "photoUrl": "",
      "userId": "00423118231565855136"
     },
     "user_tz": -540
    },
    "id": "X69m0R4gRQhS"
   },
   "outputs": [],
   "source": [
    "df = pd.read_csv('freefall_data.csv')"
   ]
  },
  {
   "cell_type": "code",
   "execution_count": 3,
   "metadata": {
    "colab": {
     "base_uri": "https://localhost:8080/",
     "height": 195
    },
    "colab_type": "code",
    "executionInfo": {
     "elapsed": 10024,
     "status": "ok",
     "timestamp": 1595205218170,
     "user": {
      "displayName": "팽주현",
      "photoUrl": "",
      "userId": "00423118231565855136"
     },
     "user_tz": -540
    },
    "id": "XNQ2Q3qDRRt6",
    "outputId": "734475cf-2e2a-4958-fb2e-33991f775180"
   },
   "outputs": [
    {
     "data": {
      "text/html": [
       "<div>\n",
       "<style scoped>\n",
       "    .dataframe tbody tr th:only-of-type {\n",
       "        vertical-align: middle;\n",
       "    }\n",
       "\n",
       "    .dataframe tbody tr th {\n",
       "        vertical-align: top;\n",
       "    }\n",
       "\n",
       "    .dataframe thead th {\n",
       "        text-align: right;\n",
       "    }\n",
       "</style>\n",
       "<table border=\"1\" class=\"dataframe\">\n",
       "  <thead>\n",
       "    <tr style=\"text-align: right;\">\n",
       "      <th></th>\n",
       "      <th>Unnamed: 0</th>\n",
       "      <th>t</th>\n",
       "      <th>v</th>\n",
       "      <th>s</th>\n",
       "    </tr>\n",
       "  </thead>\n",
       "  <tbody>\n",
       "    <tr>\n",
       "      <th>0</th>\n",
       "      <td>0</td>\n",
       "      <td>0.000000</td>\n",
       "      <td>1.170687</td>\n",
       "      <td>12.546900</td>\n",
       "    </tr>\n",
       "    <tr>\n",
       "      <th>1</th>\n",
       "      <td>1</td>\n",
       "      <td>0.102041</td>\n",
       "      <td>2.613869</td>\n",
       "      <td>13.887095</td>\n",
       "    </tr>\n",
       "    <tr>\n",
       "      <th>2</th>\n",
       "      <td>2</td>\n",
       "      <td>0.204082</td>\n",
       "      <td>3.358547</td>\n",
       "      <td>6.319865</td>\n",
       "    </tr>\n",
       "    <tr>\n",
       "      <th>3</th>\n",
       "      <td>3</td>\n",
       "      <td>0.306122</td>\n",
       "      <td>3.294123</td>\n",
       "      <td>7.197436</td>\n",
       "    </tr>\n",
       "    <tr>\n",
       "      <th>4</th>\n",
       "      <td>4</td>\n",
       "      <td>0.408163</td>\n",
       "      <td>4.564353</td>\n",
       "      <td>4.269541</td>\n",
       "    </tr>\n",
       "  </tbody>\n",
       "</table>\n",
       "</div>"
      ],
      "text/plain": [
       "   Unnamed: 0         t         v          s\n",
       "0           0  0.000000  1.170687  12.546900\n",
       "1           1  0.102041  2.613869  13.887095\n",
       "2           2  0.204082  3.358547   6.319865\n",
       "3           3  0.306122  3.294123   7.197436\n",
       "4           4  0.408163  4.564353   4.269541"
      ]
     },
     "execution_count": 3,
     "metadata": {},
     "output_type": "execute_result"
    }
   ],
   "source": [
    "df.head()"
   ]
  },
  {
   "cell_type": "code",
   "execution_count": 5,
   "metadata": {
    "colab": {},
    "colab_type": "code",
    "executionInfo": {
     "elapsed": 10021,
     "status": "ok",
     "timestamp": 1595205218170,
     "user": {
      "displayName": "팽주현",
      "photoUrl": "",
      "userId": "00423118231565855136"
     },
     "user_tz": -540
    },
    "id": "NLR6DxNxRTJ3"
   },
   "outputs": [],
   "source": [
    "# data sampling\n",
    "t = df['t']\n",
    "v = df['v']\n",
    "s = df['s']"
   ]
  },
  {
   "cell_type": "code",
   "execution_count": 7,
   "metadata": {
    "colab": {
     "base_uri": "https://localhost:8080/",
     "height": 282
    },
    "colab_type": "code",
    "executionInfo": {
     "elapsed": 10556,
     "status": "ok",
     "timestamp": 1595205218710,
     "user": {
      "displayName": "팽주현",
      "photoUrl": "",
      "userId": "00423118231565855136"
     },
     "user_tz": -540
    },
    "id": "ngXLRERSRUBX",
    "outputId": "cbd9a3cf-205c-444b-edb2-65e515f0ba5a"
   },
   "outputs": [
    {
     "data": {
      "text/plain": [
       "[<matplotlib.lines.Line2D at 0x14a123aa848>]"
      ]
     },
     "execution_count": 7,
     "metadata": {},
     "output_type": "execute_result"
    },
    {
     "data": {
      "image/png": "[encoded data removed]",
      "text/plain": [
       "<Figure size 432x288 with 1 Axes>"
      ]
     },
     "metadata": {
      "needs_background": "light"
     },
     "output_type": "display_data"
    }
   ],
   "source": [
    "t.head()\n",
    "fig, ax = plt.subplots()\n",
    "ax.plot(t,v)"
   ]
  },
  {
   "cell_type": "code",
   "execution_count": 8,
   "metadata": {
    "colab": {
     "base_uri": "https://localhost:8080/",
     "height": 282
    },
    "colab_type": "code",
    "executionInfo": {
     "elapsed": 10551,
     "status": "ok",
     "timestamp": 1595205218711,
     "user": {
      "displayName": "팽주현",
      "photoUrl": "",
      "userId": "00423118231565855136"
     },
     "user_tz": -540
    },
    "id": "TZUbwo3VRVuh",
    "outputId": "961e5989-40e9-4e4a-90e7-85e8f802ce68"
   },
   "outputs": [
    {
     "data": {
      "text/plain": [
       "[<matplotlib.lines.Line2D at 0x14a12414448>]"
      ]
     },
     "execution_count": 8,
     "metadata": {},
     "output_type": "execute_result"
    },
    {
     "data": {
      "image/png": "[encoded data removed]",
      "text/plain": [
       "<Figure size 432x288 with 1 Axes>"
      ]
     },
     "metadata": {
      "needs_background": "light"
     },
     "output_type": "display_data"
    }
   ],
   "source": [
    "plt.plot(t,s)"
   ]
  }
 ],
 "metadata": {
  "colab": {
   "authorship_tag": "ABX9TyPlAtOliSF+YhLDdFNW0QUB",
   "name": "2_plot_import_csv.ipynb",
   "provenance": []
  },
  "kernelspec": {
   "display_name": "Python 3",
   "language": "python",
   "name": "python3"
  },
  "language_info": {
   "codemirror_mode": {
    "name": "ipython",
    "version": 3
   },
   "file_extension": ".py",
   "mimetype": "text/x-python",
   "name": "python",
   "nbconvert_exporter": "python",
   "pygments_lexer": "ipython3",
   "version": "3.7.3"
  }
 },
 "nbformat": 4,
 "nbformat_minor": 4
}
