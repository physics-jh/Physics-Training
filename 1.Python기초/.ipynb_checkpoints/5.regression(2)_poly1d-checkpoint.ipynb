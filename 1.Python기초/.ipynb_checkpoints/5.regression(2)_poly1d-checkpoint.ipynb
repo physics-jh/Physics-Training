{
 "cells": [
  {
   "cell_type": "markdown",
   "metadata": {},
   "source": [
    "### 회귀분석(2)"
   ]
  },
  {
   "cell_type": "code",
   "execution_count": 1,
   "metadata": {
    "colab": {},
    "colab_type": "code",
    "executionInfo": {
     "elapsed": 948,
     "status": "ok",
     "timestamp": 1595205276366,
     "user": {
      "displayName": "팽주현",
      "photoUrl": "",
      "userId": "00423118231565855136"
     },
     "user_tz": -540
    },
    "id": "7aN6Uj5jR3Q_"
   },
   "outputs": [],
   "source": [
    "import matplotlib.pyplot as plt\n",
    "import pandas as pd\n",
    "import numpy as np"
   ]
  },
  {
   "cell_type": "code",
   "execution_count": 2,
   "metadata": {
    "colab": {},
    "colab_type": "code",
    "executionInfo": {
     "elapsed": 41382,
     "status": "ok",
     "timestamp": 1595205316807,
     "user": {
      "displayName": "팽주현",
      "photoUrl": "",
      "userId": "00423118231565855136"
     },
     "user_tz": -540
    },
    "id": "Agj6BEcdR97A"
   },
   "outputs": [],
   "source": [
    "df = pd.read_csv('freefall_data.csv')\n",
    "t = df['t']\n",
    "v = df['v']\n",
    "s = df['s']"
   ]
  },
  {
   "cell_type": "code",
   "execution_count": 3,
   "metadata": {
    "colab": {},
    "colab_type": "code",
    "executionInfo": {
     "elapsed": 41380,
     "status": "ok",
     "timestamp": 1595205316808,
     "user": {
      "displayName": "팽주현",
      "photoUrl": "",
      "userId": "00423118231565855136"
     },
     "user_tz": -540
    },
    "id": "8kP9Zm9VR-mX"
   },
   "outputs": [
    {
     "name": "stdout",
     "output_type": "stream",
     "text": [
      "[9.87661059 2.17758145]\n"
     ]
    }
   ],
   "source": [
    "v_coeff = np.polyfit(t,v,1) #polyfit: 다항식의 계수(coefficient) 생성 메소드\n",
    "print(v_coeff)\n",
    "v_fit = np.poly1d(v_coeff)  #poly1d: 다항식 생성 메소드"
   ]
  },
  {
   "cell_type": "code",
   "execution_count": 6,
   "metadata": {
    "colab": {
     "base_uri": "https://localhost:8080/",
     "height": 265
    },
    "colab_type": "code",
    "executionInfo": {
     "elapsed": 41717,
     "status": "ok",
     "timestamp": 1595205317147,
     "user": {
      "displayName": "팽주현",
      "photoUrl": "",
      "userId": "00423118231565855136"
     },
     "user_tz": -540
    },
    "id": "_eYzAFCkR_Wk",
    "outputId": "2e5667a4-5bf1-4655-eda0-6738c8edc365"
   },
   "outputs": [
    {
     "data": {
      "image/png": "[encoded data removed]",
      "text/plain": [
       "<Figure size 432x288 with 1 Axes>"
      ]
     },
     "metadata": {
      "needs_background": "light"
     },
     "output_type": "display_data"
    }
   ],
   "source": [
    "plt.figure()\n",
    "plt.plot(t, v, 'c+', label='original data')\n",
    "plt.plot(t,  v_fit(t), 'r-', lw = 2, label='fitted line')\n",
    "plt.legend()\n",
    "plt.show()"
   ]
  },
  {
   "cell_type": "code",
   "execution_count": 9,
   "metadata": {
    "colab": {
     "base_uri": "https://localhost:8080/",
     "height": 34
    },
    "colab_type": "code",
    "executionInfo": {
     "elapsed": 41717,
     "status": "ok",
     "timestamp": 1595205317149,
     "user": {
      "displayName": "팽주현",
      "photoUrl": "",
      "userId": "00423118231565855136"
     },
     "user_tz": -540
    },
    "id": "jrHJJNpUR_8t",
    "outputId": "00c21ec4-4965-49ea-9a1e-f0f73b495796"
   },
   "outputs": [
    {
     "name": "stdout",
     "output_type": "stream",
     "text": [
      "[ 5.31411318 -2.00206454  8.66652388]\n"
     ]
    }
   ],
   "source": [
    "s_coeff = np.polyfit(t,s,2)\n",
    "s_fit = np.poly1d(s_coeff)\n",
    "print(s_coeff)"
   ]
  },
  {
   "cell_type": "code",
   "execution_count": 11,
   "metadata": {
    "colab": {
     "base_uri": "https://localhost:8080/",
     "height": 265
    },
    "colab_type": "code",
    "executionInfo": {
     "elapsed": 41716,
     "status": "ok",
     "timestamp": 1595205317150,
     "user": {
      "displayName": "팽주현",
      "photoUrl": "",
      "userId": "00423118231565855136"
     },
     "user_tz": -540
    },
    "id": "YqzLvNUGSA8O",
    "outputId": "b9e1fba1-b92f-442c-afaf-714e8cd4a5f8"
   },
   "outputs": [
    {
     "data": {
      "image/png": "[encoded data removed]",
      "text/plain": [
       "<Figure size 432x288 with 1 Axes>"
      ]
     },
     "metadata": {
      "needs_background": "light"
     },
     "output_type": "display_data"
    }
   ],
   "source": [
    "plt.plot(t, s, 'c+', label='original data')\n",
    "plt.plot(t, s_fit(t), 'r-', lw = 2, label='fitted line')\n",
    "plt.legend()\n",
    "plt.show()"
   ]
  }
 ],
 "metadata": {
  "colab": {
   "authorship_tag": "ABX9TyOSQfjpK4cJlswjK1u4WDnZ",
   "name": "4_poly1d.ipynb",
   "provenance": []
  },
  "kernelspec": {
   "display_name": "Python 3",
   "language": "python",
   "name": "python3"
  },
  "language_info": {
   "codemirror_mode": {
    "name": "ipython",
    "version": 3
   },
   "file_extension": ".py",
   "mimetype": "text/x-python",
   "name": "python",
   "nbconvert_exporter": "python",
   "pygments_lexer": "ipython3",
   "version": "3.7.6"
  }
 },
 "nbformat": 4,
 "nbformat_minor": 4
}
