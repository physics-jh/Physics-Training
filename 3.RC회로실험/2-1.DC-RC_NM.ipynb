{
 "cells": [
  {
   "cell_type": "markdown",
   "metadata": {
    "colab_type": "text",
    "id": "tBa69wBhUxS_"
   },
   "source": [
    "### 직류 RC"
   ]
  },
  {
   "cell_type": "code",
   "execution_count": 1,
   "metadata": {
    "colab": {},
    "colab_type": "code",
    "executionInfo": {
     "elapsed": 818,
     "status": "ok",
     "timestamp": 1595032205804,
     "user": {
      "displayName": "팽주현",
      "photoUrl": "",
      "userId": "00423118231565855136"
     },
     "user_tz": -540
    },
    "id": "1ourFk3uUyw7"
   },
   "outputs": [],
   "source": [
    "import numpy as np\n",
    "import matplotlib.pyplot as plt\n",
    "import pandas as pd\n",
    "from scipy.integrate import odeint"
   ]
  },
  {
   "cell_type": "code",
   "execution_count": 2,
   "metadata": {
    "colab": {},
    "colab_type": "code",
    "executionInfo": {
     "elapsed": 426,
     "status": "ok",
     "timestamp": 1595032205805,
     "user": {
      "displayName": "팽주현",
      "photoUrl": "",
      "userId": "00423118231565855136"
     },
     "user_tz": -540
    },
    "id": "eAW5TgiiU09A"
   },
   "outputs": [],
   "source": [
    "# ODE\n",
    "V = 5\n",
    "R = 10e3\n",
    "C = 220e-6\n",
    "def dq_dt(q, t):\n",
    "    return V/R - q/(R*C)"
   ]
  },
  {
   "cell_type": "code",
   "execution_count": 3,
   "metadata": {
    "colab": {},
    "colab_type": "code",
    "executionInfo": {
     "elapsed": 508,
     "status": "ok",
     "timestamp": 1595032206227,
     "user": {
      "displayName": "팽주현",
      "photoUrl": "",
      "userId": "00423118231565855136"
     },
     "user_tz": -540
    },
    "id": "JaW-0r1eU8ii"
   },
   "outputs": [],
   "source": [
    "t = np.linspace(0,15,1500)\n",
    "sol = odeint(dq_dt, 0, t)\n",
    "V_c = sol/C"
   ]
  },
  {
   "cell_type": "code",
   "execution_count": 4,
   "metadata": {
    "colab": {
     "base_uri": "https://localhost:8080/",
     "height": 279
    },
    "colab_type": "code",
    "executionInfo": {
     "elapsed": 961,
     "status": "ok",
     "timestamp": 1595032207118,
     "user": {
      "displayName": "팽주현",
      "photoUrl": "",
      "userId": "00423118231565855136"
     },
     "user_tz": -540
    },
    "id": "-d-cN3E5U92v",
    "outputId": "f9de3070-3295-4424-bd01-909f20b9be34"
   },
   "outputs": [
    {
     "data": {
      "image/png": "[encoded data removed]",
      "text/plain": [
       "<Figure size 432x288 with 1 Axes>"
      ]
     },
     "metadata": {
      "needs_background": "light"
     },
     "output_type": "display_data"
    }
   ],
   "source": [
    "fig, ax = plt.subplots()\n",
    "ax.plot(t, V_c, 'c-.', label='charge(t-V)')\n",
    "ax.grid()\n",
    "ax.set_xlabel('t(sec)')\n",
    "ax.set_ylabel('Voltage(V)')\n",
    "ax.legend()\n",
    "plt.show()"
   ]
  },
  {
   "cell_type": "markdown",
   "metadata": {},
   "source": [
    "#### 1 tau(67%)충전 표기"
   ]
  },
  {
   "cell_type": "code",
   "execution_count": 5,
   "metadata": {},
   "outputs": [],
   "source": [
    "#데이터 reshape\n",
    "t = np.reshape(t, (1500, 1))\n",
    "V_c = np.reshape(V_c, (1500, 1))"
   ]
  },
  {
   "cell_type": "code",
   "execution_count": 6,
   "metadata": {},
   "outputs": [],
   "source": [
    "#t-V_C  2열 데이터 생성\n",
    "V_t = np.concatenate((t,V_c), axis=1)"
   ]
  },
  {
   "cell_type": "code",
   "execution_count": 7,
   "metadata": {},
   "outputs": [],
   "source": [
    "#1tau 조건 indexing\n",
    "V_1tau = V_t[:,1][np.where(V_t[:,0]< R*C)]\n",
    "t_1tau = V_t[:,0][np.where(V_t[:,0]< R*C)]"
   ]
  },
  {
   "cell_type": "code",
   "execution_count": 8,
   "metadata": {},
   "outputs": [
    {
     "data": {
      "image/png": "[encoded data removed]",
      "text/plain": [
       "<Figure size 432x288 with 1 Axes>"
      ]
     },
     "metadata": {
      "needs_background": "light"
     },
     "output_type": "display_data"
    }
   ],
   "source": [
    "#1tau(67%)충전 plotting\n",
    "fig, ax = plt.subplots()\n",
    "ax.plot(t, V_c, 'c-', label='charge(t-V_C)')\n",
    "ax.fill_between(t_1tau, V_1tau, facecolor='r')\n",
    "ax.grid()\n",
    "ax.set_xlabel('time[sec]')\n",
    "ax.set_ylabel('V_c[V]')\n",
    "ax.legend()\n",
    "plt.show()"
   ]
  }
 ],
 "metadata": {
  "colab": {
   "authorship_tag": "ABX9TyM2gTcbGAySe7tp66/7EIhK",
   "name": "7_RC_ODE.ipynb",
   "provenance": []
  },
  "kernelspec": {
   "display_name": "Python 3",
   "language": "python",
   "name": "python3"
  },
  "language_info": {
   "codemirror_mode": {
    "name": "ipython",
    "version": 3
   },
   "file_extension": ".py",
   "mimetype": "text/x-python",
   "name": "python",
   "nbconvert_exporter": "python",
   "pygments_lexer": "ipython3",
   "version": "3.7.6"
  }
 },
 "nbformat": 4,
 "nbformat_minor": 4
}
