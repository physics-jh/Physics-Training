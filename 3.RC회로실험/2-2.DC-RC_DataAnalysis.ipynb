{
 "cells": [
  {
   "cell_type": "code",
   "execution_count": 15,
   "metadata": {
    "colab": {},
    "colab_type": "code",
    "executionInfo": {
     "elapsed": 755,
     "status": "ok",
     "timestamp": 1596536966458,
     "user": {
      "displayName": "팽주현",
      "photoUrl": "",
      "userId": "00423118231565855136"
     },
     "user_tz": -540
    },
    "id": "ozIwAUuOVPbz"
   },
   "outputs": [],
   "source": [
    "import numpy as np\n",
    "import matplotlib.pyplot as plt\n",
    "import pandas as pd\n",
    "from scipy.integrate import odeint\n",
    "from scipy.optimize import curve_fit"
   ]
  },
  {
   "cell_type": "code",
   "execution_count": 16,
   "metadata": {
    "colab": {},
    "colab_type": "code",
    "executionInfo": {
     "elapsed": 1772,
     "status": "ok",
     "timestamp": 1596536967486,
     "user": {
      "displayName": "팽주현",
      "photoUrl": "",
      "userId": "00423118231565855136"
     },
     "user_tz": -540
    },
    "id": "-Y6skxfnVQ6C"
   },
   "outputs": [],
   "source": [
    "df = pd.read_csv('DC-RC_data.csv')"
   ]
  },
  {
   "cell_type": "code",
   "execution_count": 17,
   "metadata": {
    "colab": {
     "base_uri": "https://localhost:8080/",
     "height": 265
    },
    "colab_type": "code",
    "executionInfo": {
     "elapsed": 1767,
     "status": "ok",
     "timestamp": 1596536967487,
     "user": {
      "displayName": "팽주현",
      "photoUrl": "",
      "userId": "00423118231565855136"
     },
     "user_tz": -540
    },
    "id": "XwrA7PiLVRr2",
    "outputId": "4d18173e-4fb9-4f3f-967a-79c617446f89"
   },
   "outputs": [
    {
     "data": {
      "image/png": "[encoded data removed]",
      "text/plain": [
       "<Figure size 432x288 with 1 Axes>"
      ]
     },
     "metadata": {
      "needs_background": "light"
     },
     "output_type": "display_data"
    }
   ],
   "source": [
    "#RC circuit eq2\n",
    "V_0 = 5\n",
    "R = 1.0e4\n",
    "C = 220e-6\n",
    "t = np.linspace(0,3,100)\n",
    "V_t = V_0*(1-np.exp(-t/(R*C)))\n",
    "t_m = df['t']\n",
    "v_m = df['Vc']\n",
    "fig, ax = plt.subplots()\n",
    "ax.plot(t_m, v_m, 'c.')\n",
    "ax.plot(t, V_t, 'r-')\n",
    "ax.grid()\n",
    "plt.show()"
   ]
  },
  {
   "cell_type": "code",
   "execution_count": null,
   "metadata": {},
   "outputs": [],
   "source": []
  }
 ],
 "metadata": {
  "colab": {
   "authorship_tag": "ABX9TyPrVW4nRIgftnjF/FUm0jKP",
   "mount_file_id": "1HtV0CGbvV_A3w24dHymDKZ5qTRwg_f6H",
   "name": "8_RC_circuit.ipynb",
   "provenance": []
  },
  "kernelspec": {
   "display_name": "Python 3",
   "language": "python",
   "name": "python3"
  },
  "language_info": {
   "codemirror_mode": {
    "name": "ipython",
    "version": 3
   },
   "file_extension": ".py",
   "mimetype": "text/x-python",
   "name": "python",
   "nbconvert_exporter": "python",
   "pygments_lexer": "ipython3",
   "version": "3.7.6"
  }
 },
 "nbformat": 4,
 "nbformat_minor": 4
}
